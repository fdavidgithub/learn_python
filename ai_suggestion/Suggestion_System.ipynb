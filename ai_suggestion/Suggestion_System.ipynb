{
  "nbformat": 4,
  "nbformat_minor": 0,
  "metadata": {
    "colab": {
      "name": "Suggestion System .ipynb",
      "provenance": [],
      "collapsed_sections": []
    },
    "kernelspec": {
      "name": "python3",
      "display_name": "Python 3"
    }
  },
  "cells": [
    {
      "cell_type": "markdown",
      "metadata": {
        "id": "INuyIHZzBFKO"
      },
      "source": [
        "# **Suggestion System**\n",
        "How many points would **Luis give to** Ilhabela, Marau and Ilha de Boipeba? \n",
        "\n",
        "![data.png](data:image/png;base64,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)\n",
        "\n",
        "* Click the **Play icon** in the left gutter of the cell;\n"
      ]
    },
    {
      "cell_type": "markdown",
      "metadata": {
        "id": "xnjFo4T7BTtv"
      },
      "source": [
        "# Load data"
      ]
    },
    {
      "cell_type": "code",
      "metadata": {
        "id": "XtdA0CtzCrdh"
      },
      "source": [
        "import math\n",
        "nan = float('nan')\n",
        "db = {'Julia': {'Ilhabela': 1.0, 'Florianopolis': 5.0, 'Marau': 1.0, 'Ilha Grande': 1.0, 'Ilha de Boipeba': 3.0}, 'Joao': {'Ilhabela': 3.0, 'Florianopolis': 1.0, 'Marau': 5.0, 'Ilha Grande': 4.0, 'Ilha de Boipeba': 4.0}, 'Evelyn': {'Ilhabela': 1.0, 'Florianopolis': 3.0, 'Marau': 2.0, 'Ilha Grande': 5.0, 'Ilha de Boipeba': 5.0}, 'Luis': {'Ilhabela': nan, 'Florianopolis': 1.0, 'Marau': nan, 'Ilha Grande': 5.0, 'Ilha de Boipeba': nan}, 'Thais': {'Ilhabela': 3.0, 'Florianopolis': 2.0, 'Marau': 2.0, 'Ilha Grande': 2.0, 'Ilha de Boipeba': 4.0}, 'Laura': {'Ilhabela': nan, 'Florianopolis': 3.0, 'Marau': 2.0, 'Ilha Grande': nan, 'Ilha de Boipeba': 4.0}, 'Fabio': {'Ilhabela': 3.0, 'Florianopolis': nan, 'Marau': 4.0, 'Ilha Grande': 3.0, 'Ilha de Boipeba': nan}, 'Antonio': {'Ilhabela': 5.0, 'Florianopolis': 3.0, 'Marau': nan, 'Ilha Grande': 1.0, 'Ilha de Boipeba': 1.0}}\n"
      ],
      "execution_count": 12,
      "outputs": []
    },
    {
      "cell_type": "markdown",
      "metadata": {
        "id": "crdZeZoDEas5"
      },
      "source": [
        "# Show values"
      ]
    },
    {
      "cell_type": "code",
      "metadata": {
        "colab": {
          "base_uri": "https://localhost:8080/"
        },
        "id": "XUvjhHnZEuJg",
        "outputId": "dfb86db3-86b7-4222-acc7-47d2d97e7713"
      },
      "source": [
        "db['Luis']"
      ],
      "execution_count": 13,
      "outputs": [
        {
          "output_type": "execute_result",
          "data": {
            "text/plain": [
              "{'Florianopolis': 1.0,\n",
              " 'Ilha Grande': 5.0,\n",
              " 'Ilha de Boipeba': nan,\n",
              " 'Ilhabela': nan,\n",
              " 'Marau': nan}"
            ]
          },
          "metadata": {
            "tags": []
          },
          "execution_count": 13
        }
      ]
    },
    {
      "cell_type": "markdown",
      "metadata": {
        "id": "2CGmHwPce0g4"
      },
      "source": [
        "# Load library"
      ]
    },
    {
      "cell_type": "code",
      "metadata": {
        "id": "-zBSnQgye4yB"
      },
      "source": [
        "from math import sqrt, isnan\n",
        "\n",
        "def euclidian(dest1, dest2):\n",
        "    '''\n",
        "    dest1: array of x value\n",
        "    dest2: array of y value\n",
        "    '''\n",
        "    res = 0\n",
        "\n",
        "    for x, y in zip(dest1, dest2):\n",
        "        res += pow(x-y, 2)\n",
        "\n",
        "    res = sqrt(res)\n",
        "    return res\n",
        "\n",
        "def psimilar(similar):\n",
        "    return 1/(1+similar)\n",
        "\n",
        "def similar(data, user1, user2):\n",
        "    dest1=[]\n",
        "    dest2=[]\n",
        "\n",
        "    for datum in data[user1]:\n",
        "        value1 = data[user1][datum]\n",
        "\n",
        "        if not isnan(value1):\n",
        "            if datum in data[user2]:\n",
        "                value2 = data[user2][datum]\n",
        "\n",
        "                if not isnan(value2):\n",
        "                    dest1.append(value1)\n",
        "                    dest2.append(value2)\n",
        "\n",
        "    return euclidian(dest1, dest2)\n",
        "\n",
        "def getsimilaruser(data, user):\n",
        "    similars={}\n",
        "\n",
        "    for other in list(data.keys()):\n",
        "        if other != user:\n",
        "            s = similar(data, user, other)\n",
        "            similars.setdefault(other, psimilar(s))\n",
        "\n",
        "    return similars\n",
        "\n",
        "def getsuggest(data, user):\n",
        "    similarusers = getsimilaruser(data, user)\n",
        "    suggest={}\n",
        "\n",
        "    for datum in data[user]:\n",
        "        value=data[user][datum]\n",
        "        \n",
        "        if isnan(value):\n",
        "            total=0\n",
        "            simtotal=0\n",
        "\n",
        "            for simuser in similarusers:\n",
        "                valueuser = data[simuser][datum]\n",
        "\n",
        "                if not isnan(valueuser):\n",
        "                    total += valueuser * similarusers[simuser]\n",
        "                    simtotal += similarusers[simuser]\n",
        "                    \n",
        "            suggest.setdefault(datum, total / simtotal)\n",
        "    \n",
        "    return suggest\n"
      ],
      "execution_count": 23,
      "outputs": []
    },
    {
      "cell_type": "markdown",
      "metadata": {
        "id": "QuMom7XcFD_G"
      },
      "source": [
        "# Euclidian distance between Luis and Antonio"
      ]
    },
    {
      "cell_type": "code",
      "metadata": {
        "colab": {
          "base_uri": "https://localhost:8080/"
        },
        "id": "jgZGRWGBFHB3",
        "outputId": "ba48f52d-3048-4514-ee95-f3195c379484"
      },
      "source": [
        "similar(db, 'Luis', 'Antonio')\n"
      ],
      "execution_count": 26,
      "outputs": [
        {
          "output_type": "execute_result",
          "data": {
            "text/plain": [
              "4.47213595499958"
            ]
          },
          "metadata": {
            "tags": []
          },
          "execution_count": 26
        }
      ]
    },
    {
      "cell_type": "markdown",
      "metadata": {
        "id": "W2UiTpEaNFWP"
      },
      "source": [
        "# All users and their similarities (percentual) with Luis"
      ]
    },
    {
      "cell_type": "code",
      "metadata": {
        "colab": {
          "base_uri": "https://localhost:8080/"
        },
        "id": "hEuEWQs0NNKi",
        "outputId": "f750eed8-a461-4940-f6f7-ea0b47f0df00"
      },
      "source": [
        "getsimilaruser(db, 'Luis')"
      ],
      "execution_count": 21,
      "outputs": [
        {
          "output_type": "execute_result",
          "data": {
            "text/plain": [
              "{'Antonio': 0.1827439976315568,\n",
              " 'Evelyn': 0.3333333333333333,\n",
              " 'Fabio': 0.3333333333333333,\n",
              " 'Joao': 0.5,\n",
              " 'Julia': 0.15022110482233483,\n",
              " 'Laura': 0.3333333333333333,\n",
              " 'Thais': 0.2402530733520421}"
            ]
          },
          "metadata": {
            "tags": []
          },
          "execution_count": 21
        }
      ]
    },
    {
      "cell_type": "markdown",
      "metadata": {
        "id": "G1ukyTV7NvFv"
      },
      "source": [
        "# Prediction\n"
      ]
    },
    {
      "cell_type": "code",
      "metadata": {
        "colab": {
          "base_uri": "https://localhost:8080/"
        },
        "id": "V6uP3X0cNxK7",
        "outputId": "45261e2c-b610-4eaf-9ba3-8c9808e4815c"
      },
      "source": [
        "getsuggest(db, 'Luis')"
      ],
      "execution_count": 22,
      "outputs": [
        {
          "output_type": "execute_result",
          "data": {
            "text/plain": [
              "{'Ilha de Boipeba': 3.7901471663694766,\n",
              " 'Ilhabela': 2.6542179882472903,\n",
              " 'Marau': 3.066634807882753}"
            ]
          },
          "metadata": {
            "tags": []
          },
          "execution_count": 22
        }
      ]
    }
  ]
}